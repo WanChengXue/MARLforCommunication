{
 "cells": [
  {
   "cell_type": "code",
   "execution_count": 2,
   "metadata": {},
   "outputs": [
    {
     "name": "stdout",
     "output_type": "stream",
     "text": [
      "[Taichi] version 0.7.32, llvm 10.0.0, commit 6652f94f, linux, python 3.6.10\n",
      "[Taichi] Starting on arch=x64\n"
     ]
    }
   ],
   "source": [
    "import taichi as ti\n",
    "import sys\n",
    "import numpy as np\n",
    "import time\n",
    "\n",
    "isDebug = True if sys.gettrace() else False  # swb:获取是不是调试的状态\n",
    "ti.init(arch=ti.cpu, debug=isDebug)  # 初始化设备\n",
    "\n"
   ]
  },
  {
   "cell_type": "code",
   "execution_count": 15,
   "metadata": {},
   "outputs": [
    {
     "name": "stdout",
     "output_type": "stream",
     "text": [
      "使用太极消耗的运行时间为：0.0010114621162414551\n"
     ]
    }
   ],
   "source": [
    "m = ti.field(dtype=ti.f32, shape=(3, 3))\n",
    "@ti.kernel\n",
    "def fill():\n",
    "    # `ti.static` indicates that the loop will be unrolled at compile time\n",
    "    for i in ti.static(range(400)):\n",
    "        m_small = generate()\n",
    "        if i == 0 or i == 1:\n",
    "            m[0, i+0] += m_small[0, 0]\n",
    "            m[0, i+1] += m_small[0, 1]\n",
    "            m[1, i+0] += m_small[1, 0]\n",
    "            m[1, i+1] += m_small[1, 1]\n",
    "        if i == 2 or i == 3:\n",
    "            m[1, i-2] += m_small[0, 0]\n",
    "            m[1, i-1] += m_small[0, 1]\n",
    "            m[2, i-2] += m_small[1, 0]\n",
    "            m[2, i-1] += m_small[1, 1]\n",
    "\n",
    "\n",
    "@ti.func\n",
    "def generate():\n",
    "    # swb: 临时变量\n",
    "    # lin_ij = ti.Matrix.zero(ti.f32, 4, 4)  # swb:这个形式是生成局部变量啊！！\n",
    "    return ti.Matrix([[1.0, 1.0],\n",
    "                      [1.0, 1.0]])\n",
    "\n",
    "coordinates = np.random.randn(441, 2)\n",
    "elements = np.random.randn(127, 3)\n",
    "neighbours = np.random.randn(441, 8)\n",
    "neb_num = np.random.randn(441)\n",
    "\n",
    "# swb：全局变量啊\n",
    "ti_coordinates = ti.field(dtype=ti.f32, shape=(441, 2))  # swb：节点坐标\n",
    "ti_elements = ti.field(dtype=ti.i32, shape=(127, 3))\n",
    "ti_neighbours = ti.field(dtype=ti.i32, shape=(441, 8))\n",
    "ti_neb_num = ti.field(dtype=ti.i32, shape=441)\n",
    "\n",
    "ti_coordinates.from_numpy(coordinates)\n",
    "ti_elements.from_numpy(elements)\n",
    "ti_neighbours.from_numpy(neighbours)\n",
    "ti_neb_num.from_numpy(neb_num)\n",
    "\n",
    "time_list = []\n",
    "# The `kernel` should called in python-scope\n",
    "for _ in range(10000):\n",
    "    start_time = time.time()\n",
    "    fill()\n",
    "    # generate()  # This is not allowed, `ti.func` can only be called inside `ti.kernel`\n",
    "#     print(m)\n",
    "    end_time = time.time()\n",
    "    time_list.append(end_time-start_time)\n",
    "print(\"使用太极消耗的运行时间为：{}\".format(np.mean(time_list)))"
   ]
  },
  {
   "cell_type": "code",
   "execution_count": 16,
   "metadata": {},
   "outputs": [
    {
     "name": "stdout",
     "output_type": "stream",
     "text": [
      "不使用太极消耗的运行时间为：0.000645925498008728\n"
     ]
    }
   ],
   "source": [
    "def fill():\n",
    "    # `ti.static` indicates that the loop will be unrolled at compile time\n",
    "    m = np.zeros((3,3))\n",
    "    for i in range(400):\n",
    "        m_small = generate()\n",
    "        if i == 0 or i == 1:\n",
    "            m[0, i+0] += m_small[0, 0]\n",
    "            m[0, i+1] += m_small[0, 1]\n",
    "            m[1, i+0] += m_small[1, 0]\n",
    "            m[1, i+1] += m_small[1, 1]\n",
    "        if i == 2 or i == 3:\n",
    "            m[1, i-2] += m_small[0, 0]\n",
    "            m[1, i-1] += m_small[0, 1]\n",
    "            m[2, i-2] += m_small[1, 0]\n",
    "            m[2, i-1] += m_small[1, 1]\n",
    "\n",
    "\n",
    "\n",
    "def generate():\n",
    "    # swb: 临时变量\n",
    "    # lin_ij = ti.Matrix.zero(ti.f32, 4, 4)  # swb:这个形式是生成局部变量啊！！\n",
    "    return np.array([[1.0, 1.0],\n",
    "                      [1.0, 1.0]])\n",
    "time_list = []\n",
    "# The `kernel` should called in python-scope\n",
    "for _ in range(10000):\n",
    "    start_time = time.time()\n",
    "    fill()\n",
    "    # generate()  # This is not allowed, `ti.func` can only be called inside `ti.kernel`\n",
    "#     print(m)\n",
    "    end_time = time.time()\n",
    "    time_list.append(end_time-start_time)\n",
    "print(\"不使用太极消耗的运行时间为：{}\".format(np.mean(time_list)))"
   ]
  },
  {
   "cell_type": "code",
   "execution_count": 33,
   "metadata": {},
   "outputs": [
    {
     "name": "stdout",
     "output_type": "stream",
     "text": [
      "[[0.14729081+0.17831518j 0.00900344+0.46636301j 0.40021387+0.06318441j\n",
      "  0.13459486+0.39593946j 0.98150365+0.03010755j 0.0424001 +0.41249713j\n",
      "  0.24561162+0.70023652j 0.85708204+0.68523462j 0.73553924+0.37352106j\n",
      "  0.45584269+0.19838151j 0.15806303+0.75526109j 0.57881087+0.95380727j\n",
      "  0.24585853+0.16966656j 0.51397911+0.59536588j 0.33558384+0.34218342j\n",
      "  0.02535837+0.42651991j 0.73211738+0.12117501j 0.99251943+0.08426538j\n",
      "  0.4601449 +0.03544259j 0.88055926+0.07917951j]\n",
      " [0.59453206+0.51174146j 0.91787052+0.1111748j  0.01534766+0.56324838j\n",
      "  0.08580247+0.08052536j 0.40491004+0.47203495j 0.22976709+0.83936551j\n",
      "  0.8087686 +0.65105733j 0.24942814+0.16000076j 0.09017531+0.28473403j\n",
      "  0.73386894+0.59213777j 0.04916827+0.37927979j 0.94446527+0.10307491j\n",
      "  0.42070734+0.13684584j 0.19014946+0.57403152j 0.36467396+0.55933039j\n",
      "  0.33903176+0.52524571j 0.05594481+0.23219027j 0.66191602+0.38993498j\n",
      "  0.59774804+0.09690859j 0.76386913+0.15442799j]\n",
      " [0.47773428+0.24371923j 0.02505973+0.87292932j 0.58761809+0.94810446j\n",
      "  0.17742241+0.47555313j 0.94564856+0.46325888j 0.78765255+0.84645602j\n",
      "  0.64550383+0.35567176j 0.30996784+0.46660024j 0.91423583+0.62204878j\n",
      "  0.87002253+0.6972395j  0.16565325+0.39343847j 0.79704287+0.28113761j\n",
      "  0.37376121+0.05230744j 0.35314562+0.84548158j 0.30634074+0.72276678j\n",
      "  0.56846045+0.30396337j 0.93625686+0.9688439j  0.63953159+0.18861707j\n",
      "  0.80561811+0.76526579j 0.75640022+0.31996294j]\n",
      " [0.05351288+0.81860452j 0.26328145+0.5905485j  0.46507218+0.69221052j\n",
      "  0.75715614+0.47039112j 0.54613595+0.59447917j 0.02437444+0.62119233j\n",
      "  0.19092902+0.53912723j 0.4264738 +0.11375168j 0.06346213+0.36604935j\n",
      "  0.37704197+0.72406999j 0.9509657 +0.93000802j 0.73194567+0.47956608j\n",
      "  0.39428367+0.68792687j 0.34767189+0.34489695j 0.97413421+0.13983276j\n",
      "  0.36249994+0.19772864j 0.6682653 +0.29047186j 0.454923  +0.54029441j\n",
      "  0.57234096+0.29411977j 0.86206507+0.46995639j]]\n"
     ]
    }
   ],
   "source": [
    "a = np.random.rand(4,20)\n",
    "b = np.random.rand(4,20)\n",
    "c = a +1j*b\n",
    "print(c)"
   ]
  },
  {
   "cell_type": "code",
   "execution_count": 35,
   "metadata": {},
   "outputs": [
    {
     "name": "stdout",
     "output_type": "stream",
     "text": [
      "[[-9.83239698e-03+0.05684313j  9.67472142e-02-0.03705294j\n",
      "   1.13629542e-02+0.0423919j  -6.26715633e-02-0.10871804j]\n",
      " [-1.06342084e-01+0.08069504j  3.37755825e-01+0.14220684j\n",
      "  -1.09107141e-01-0.22652152j -4.26682588e-02+0.02623483j]\n",
      " [-1.17524162e-02+0.1418024j  -1.01149374e-01-0.00879624j\n",
      "   4.44939857e-02-0.09569607j  7.24533054e-02-0.07527141j]\n",
      " [-6.58266487e-02-0.01943183j -8.84687061e-02+0.04869244j\n",
      "  -2.70860882e-03-0.02055721j  1.64668094e-01-0.05401551j]\n",
      " [ 1.42664799e-01+0.07443825j -7.29489273e-02-0.06409072j\n",
      "   1.44358236e-02+0.03397037j -1.33232044e-02-0.08763838j]\n",
      " [-1.03625176e-01+0.00650573j -1.95310477e-02-0.04437883j\n",
      "   1.55393172e-01-0.04576524j -4.29840293e-02+0.01127002j]\n",
      " [-2.42297052e-02-0.11199196j  1.36528410e-01-0.08435779j\n",
      "   2.88043601e-02+0.06604977j -6.93367201e-02+0.04353556j]\n",
      " [ 1.70940372e-01-0.1468605j  -2.85124096e-02-0.01764465j\n",
      "  -5.02534921e-02+0.0403139j  -9.37749457e-03+0.06968612j]\n",
      " [ 8.36426778e-02-0.06946504j -1.20950972e-01+0.07316049j\n",
      "   1.66921821e-01-0.01160623j -1.20322839e-01-0.02340032j]\n",
      " [-2.63866820e-02+0.09041714j  1.03822510e-01-0.01571539j\n",
      "   3.22493602e-02-0.06859865j -4.61873959e-02-0.0405414j ]\n",
      " [-3.32537957e-02-0.09972817j -1.91547542e-01-0.03858616j\n",
      "  -1.05659710e-02+0.14390497j  2.39822808e-01-0.13385598j]\n",
      " [-1.43468647e-02-0.22094005j  8.01512152e-02+0.06928275j\n",
      "   4.40633541e-02+0.06323728j -1.82248155e-02+0.01888012j]\n",
      " [ 4.21393562e-03+0.01469083j -2.15630775e-03+0.02109437j\n",
      "   1.05233350e-03+0.0676061j   2.46313644e-02-0.13993596j]\n",
      " [ 6.21489053e-02-0.04329155j -1.02127290e-02-0.067587j\n",
      "  -2.20226413e-02-0.03074476j  2.42899296e-02+0.07208885j]\n",
      " [-3.91049572e-02+0.03564687j  2.81017405e-02-0.15289592j\n",
      "  -1.12382455e-01-0.06596038j  2.05263448e-01+0.11721964j]\n",
      " [-9.39777901e-02-0.08198608j -2.74651689e-03-0.094309j\n",
      "   7.33605708e-02+0.03383693j  4.55869170e-02+0.06905119j]\n",
      " [-9.51061981e-05+0.06085139j -1.38217017e-01+0.08186334j\n",
      "   1.13129535e-01-0.14684203j  4.29609593e-02-0.00243611j]\n",
      " [ 2.02068181e-01+0.05390314j  5.19573412e-02-0.10218981j\n",
      "  -9.76998849e-02+0.07912444j -4.23944461e-02-0.07125472j]\n",
      " [-7.49946008e-02+0.10278955j  9.38215078e-02+0.11400012j\n",
      "   4.56874006e-02-0.19932386j -1.14304302e-02+0.01240918j]\n",
      " [ 8.62087265e-02+0.06533197j  5.70307664e-02-0.01183217j\n",
      "  -7.21222390e-02-0.0124215j   3.78662924e-02-0.05735877j]]\n",
      "[[1.00000000e+00 2.81003786e-16 1.52655666e-16 1.49468349e-16]\n",
      " [7.31932031e-17 1.00000000e+00 2.77555756e-16 3.60822483e-16]\n",
      " [3.23980218e-16 4.37869085e-16 1.00000000e+00 1.89394945e-16]\n",
      " [2.08888368e-16 5.96906224e-16 4.16333634e-16 1.00000000e+00]]\n"
     ]
    }
   ],
   "source": [
    "d = np.linalg.pinv(c)\n",
    "print(d)\n",
    "print(abs(c.dot(d)))"
   ]
  },
  {
   "cell_type": "code",
   "execution_count": 31,
   "metadata": {},
   "outputs": [
    {
     "name": "stdout",
     "output_type": "stream",
     "text": [
      "[0.48656325 0.47222493 0.50139911 0.55353555]\n"
     ]
    }
   ],
   "source": [
    "e = np.linalg.norm(d, 2,0)\n",
    "print(e)\n",
    "d =d /e"
   ]
  },
  {
   "cell_type": "code",
   "execution_count": 32,
   "metadata": {},
   "outputs": [
    {
     "name": "stdout",
     "output_type": "stream",
     "text": [
      "[[1.         0.25552456 0.30226278 0.3568987 ]\n",
      " [0.25552456 1.         0.32099359 0.30564375]\n",
      " [0.30226278 0.32099359 1.         0.30693051]\n",
      " [0.3568987  0.30564375 0.30693051 1.        ]]\n"
     ]
    }
   ],
   "source": [
    "print(abs(d.T.conj().dot(d)))"
   ]
  },
  {
   "cell_type": "code",
   "execution_count": 81,
   "metadata": {},
   "outputs": [],
   "source": [
    "u, sigma_base, v = np.linalg.svd(c)"
   ]
  },
  {
   "cell_type": "code",
   "execution_count": 85,
   "metadata": {},
   "outputs": [
    {
     "data": {
      "text/plain": [
       "array([[6.16788797, 0.        , 0.        , 0.        , 0.        ,\n",
       "        0.        , 0.        , 0.        , 0.        , 0.        ,\n",
       "        0.        , 0.        , 0.        , 0.        , 0.        ,\n",
       "        0.        , 0.        , 0.        , 0.        , 0.        ],\n",
       "       [0.        , 2.07080232, 0.        , 0.        , 0.        ,\n",
       "        0.        , 0.        , 0.        , 0.        , 0.        ,\n",
       "        0.        , 0.        , 0.        , 0.        , 0.        ,\n",
       "        0.        , 0.        , 0.        , 0.        , 0.        ],\n",
       "       [0.        , 0.        , 1.56565596, 0.        , 0.        ,\n",
       "        0.        , 0.        , 0.        , 0.        , 0.        ,\n",
       "        0.        , 0.        , 0.        , 0.        , 0.        ,\n",
       "        0.        , 0.        , 0.        , 0.        , 0.        ],\n",
       "       [0.        , 0.        , 0.        , 1.26423078, 0.        ,\n",
       "        0.        , 0.        , 0.        , 0.        , 0.        ,\n",
       "        0.        , 0.        , 0.        , 0.        , 0.        ,\n",
       "        0.        , 0.        , 0.        , 0.        , 0.        ]])"
      ]
     },
     "execution_count": 85,
     "metadata": {},
     "output_type": "execute_result"
    }
   ],
   "source": [
    "sigma"
   ]
  },
  {
   "cell_type": "code",
   "execution_count": 84,
   "metadata": {},
   "outputs": [
    {
     "data": {
      "text/plain": [
       "array([5.75227116e+00, 2.10189338e+00, 1.62238304e+00, 2.22091205e-16])"
      ]
     },
     "execution_count": 84,
     "metadata": {},
     "output_type": "execute_result"
    }
   ],
   "source": [
    "sigma_base"
   ]
  },
  {
   "cell_type": "code",
   "execution_count": 52,
   "metadata": {},
   "outputs": [
    {
     "ename": "ValueError",
     "evalue": "shapes (4,) and (20,20) not aligned: 4 (dim 0) != 20 (dim 0)",
     "output_type": "error",
     "traceback": [
      "\u001b[0;31m---------------------------------------------------------------------------\u001b[0m",
      "\u001b[0;31mValueError\u001b[0m                                Traceback (most recent call last)",
      "\u001b[0;32m<ipython-input-52-e9ca0264ea23>\u001b[0m in \u001b[0;36m<module>\u001b[0;34m\u001b[0m\n\u001b[0;32m----> 1\u001b[0;31m \u001b[0mu\u001b[0m\u001b[0;34m.\u001b[0m\u001b[0mdot\u001b[0m\u001b[0;34m(\u001b[0m\u001b[0msigma\u001b[0m\u001b[0;34m)\u001b[0m\u001b[0;34m.\u001b[0m\u001b[0mdot\u001b[0m\u001b[0;34m(\u001b[0m\u001b[0mv\u001b[0m\u001b[0;34m)\u001b[0m \u001b[0;34m-\u001b[0m \u001b[0mc\u001b[0m\u001b[0;34m\u001b[0m\u001b[0;34m\u001b[0m\u001b[0m\n\u001b[0m",
      "\u001b[0;31mValueError\u001b[0m: shapes (4,) and (20,20) not aligned: 4 (dim 0) != 20 (dim 0)"
     ]
    }
   ],
   "source": [
    "u.dot(sigma).dot(v) - c"
   ]
  },
  {
   "cell_type": "code",
   "execution_count": 57,
   "metadata": {},
   "outputs": [],
   "source": [
    "sigma = np.concatenate((np.diag(sigma_base), np.zeros((4,16))),-1)"
   ]
  },
  {
   "cell_type": "code",
   "execution_count": 58,
   "metadata": {},
   "outputs": [
    {
     "data": {
      "text/plain": [
       "array([[5.28085841e-16, 3.19189120e-16, 1.38777878e-16, 2.16777975e-16,\n",
       "        1.75026636e-16, 1.11022302e-16, 1.66533454e-16, 2.48253415e-16,\n",
       "        2.22044605e-16, 6.20633538e-17, 2.95045816e-16, 3.14018492e-16,\n",
       "        1.24126708e-16, 1.57009246e-16, 7.85046229e-17, 5.92859355e-17,\n",
       "        1.38777878e-16, 2.32634115e-16, 1.12957009e-16, 4.16333634e-17],\n",
       "       [3.33066907e-16, 1.57009246e-16, 1.38777878e-16, 1.62435342e-16,\n",
       "        1.57009246e-16, 1.14439170e-16, 1.11022302e-16, 8.32667268e-17,\n",
       "        0.00000000e+00, 0.00000000e+00, 2.77555756e-16, 1.38777878e-17,\n",
       "        1.11022302e-16, 1.57009246e-16, 2.00148302e-16, 5.55111512e-17,\n",
       "        2.23772605e-16, 2.48253415e-16, 1.14439170e-16, 1.57009246e-16],\n",
       "       [2.83052443e-16, 3.88578059e-16, 2.48253415e-16, 5.55111512e-17,\n",
       "        1.57009246e-16, 1.57009246e-16, 2.22044605e-16, 2.22044605e-16,\n",
       "        2.22044605e-16, 0.00000000e+00, 2.02063641e-16, 1.24126708e-16,\n",
       "        1.68830575e-16, 1.24126708e-16, 1.57009246e-16, 1.24126708e-16,\n",
       "        4.71027738e-16, 2.48253415e-16, 3.14018492e-16, 0.00000000e+00],\n",
       "       [2.00148302e-16, 2.48253415e-16, 2.77555756e-16, 0.00000000e+00,\n",
       "        1.11022302e-16, 1.11022302e-16, 1.11022302e-16, 2.77902484e-16,\n",
       "        7.85046229e-17, 2.00148302e-16, 5.55111512e-16, 3.14018492e-16,\n",
       "        2.28878340e-16, 1.11022302e-16, 5.55111512e-17, 1.24126708e-16,\n",
       "        1.11022302e-16, 2.00148302e-16, 1.11022302e-16, 3.33066907e-16]])"
      ]
     },
     "execution_count": 58,
     "metadata": {},
     "output_type": "execute_result"
    }
   ],
   "source": [
    "np.abs(u.dot(sigma).dot(v) - c)"
   ]
  },
  {
   "cell_type": "code",
   "execution_count": 60,
   "metadata": {},
   "outputs": [
    {
     "data": {
      "text/plain": [
       "array([[5.28085841e-16, 3.19189120e-16, 1.38777878e-16, 2.16777975e-16,\n",
       "        1.75026636e-16, 1.11022302e-16, 1.66533454e-16, 2.48253415e-16,\n",
       "        2.22044605e-16, 6.20633538e-17, 2.95045816e-16, 3.14018492e-16,\n",
       "        1.24126708e-16, 1.57009246e-16, 7.85046229e-17, 5.92859355e-17,\n",
       "        1.38777878e-16, 2.32634115e-16, 1.12957009e-16, 4.16333634e-17],\n",
       "       [3.33066907e-16, 1.57009246e-16, 1.38777878e-16, 1.62435342e-16,\n",
       "        1.57009246e-16, 1.14439170e-16, 1.11022302e-16, 8.32667268e-17,\n",
       "        0.00000000e+00, 0.00000000e+00, 2.77555756e-16, 1.38777878e-17,\n",
       "        1.11022302e-16, 1.57009246e-16, 2.00148302e-16, 5.55111512e-17,\n",
       "        2.23772605e-16, 2.48253415e-16, 1.14439170e-16, 1.57009246e-16],\n",
       "       [2.83052443e-16, 3.88578059e-16, 2.48253415e-16, 5.55111512e-17,\n",
       "        1.57009246e-16, 1.57009246e-16, 2.22044605e-16, 2.22044605e-16,\n",
       "        2.22044605e-16, 0.00000000e+00, 2.02063641e-16, 1.24126708e-16,\n",
       "        1.68830575e-16, 1.24126708e-16, 1.57009246e-16, 1.24126708e-16,\n",
       "        4.71027738e-16, 2.48253415e-16, 3.14018492e-16, 0.00000000e+00],\n",
       "       [2.00148302e-16, 2.48253415e-16, 2.77555756e-16, 0.00000000e+00,\n",
       "        1.11022302e-16, 1.11022302e-16, 1.11022302e-16, 2.77902484e-16,\n",
       "        7.85046229e-17, 2.00148302e-16, 5.55111512e-16, 3.14018492e-16,\n",
       "        2.28878340e-16, 1.11022302e-16, 5.55111512e-17, 1.24126708e-16,\n",
       "        1.11022302e-16, 2.00148302e-16, 1.11022302e-16, 3.33066907e-16]])"
      ]
     },
     "execution_count": 60,
     "metadata": {},
     "output_type": "execute_result"
    }
   ],
   "source": [
    "v_thin = v[:4,:]\n",
    "np.abs(u.dot(np.diag(sigma_base)).dot(v_thin)-c)"
   ]
  },
  {
   "cell_type": "code",
   "execution_count": 62,
   "metadata": {},
   "outputs": [
    {
     "name": "stdout",
     "output_type": "stream",
     "text": [
      "[[1.00000000e+00 4.56334499e-17 5.59431511e-17 9.46974725e-17]\n",
      " [4.56334499e-17 1.00000000e+00 1.32567382e-16 1.95801029e-16]\n",
      " [5.59431511e-17 1.32567382e-16 1.00000000e+00 1.69399989e-16]\n",
      " [9.46974725e-17 1.95801029e-16 1.69399989e-16 1.00000000e+00]]\n"
     ]
    }
   ],
   "source": [
    "precoding_matrix = v_thin.T.conj()\n",
    "print(abs(v_thin.dot(precoding_matrix)))"
   ]
  },
  {
   "cell_type": "code",
   "execution_count": 63,
   "metadata": {},
   "outputs": [
    {
     "data": {
      "text/plain": [
       "4"
      ]
     },
     "execution_count": 63,
     "metadata": {},
     "output_type": "execute_result"
    }
   ],
   "source": [
    "sigma_base.shape[0]"
   ]
  },
  {
   "cell_type": "code",
   "execution_count": 64,
   "metadata": {},
   "outputs": [
    {
     "name": "stdout",
     "output_type": "stream",
     "text": [
      "[[ 1.00000000e+00+0.00000000e+00j  8.67361738e-17-2.81892565e-17j\n",
      "  -1.04083409e-17+3.46944695e-17j -3.81639165e-17-2.16840434e-17j]\n",
      " [ 8.67361738e-17+2.81892565e-17j  1.00000000e+00+0.00000000e+00j\n",
      "  -3.33066907e-16-2.77555756e-17j  3.33066907e-16+1.11022302e-16j]\n",
      " [-1.04083409e-17-3.46944695e-17j -3.33066907e-16+2.77555756e-17j\n",
      "   1.00000000e+00+0.00000000e+00j -8.32667268e-17-1.66533454e-16j]\n",
      " [-3.81639165e-17+2.16840434e-17j  3.33066907e-16-1.11022302e-16j\n",
      "  -8.32667268e-17+1.66533454e-16j  1.00000000e+00+0.00000000e+00j]]\n"
     ]
    }
   ],
   "source": [
    "print(u.T.conj().dot(u))"
   ]
  },
  {
   "cell_type": "code",
   "execution_count": 67,
   "metadata": {},
   "outputs": [
    {
     "name": "stdout",
     "output_type": "stream",
     "text": [
      "[[6.16788797e+00 1.82533800e-16 1.75541673e-16 4.73677990e-16]\n",
      " [9.57667917e-16 2.07080232e+00 2.32634115e-16 5.05837751e-16]\n",
      " [2.86097925e-16 3.11864493e-16 1.56565596e+00 2.77642479e-16]\n",
      " [3.49106365e-16 3.72965547e-16 4.68670791e-16 1.26423078e+00]]\n"
     ]
    }
   ],
   "source": [
    "print(abs((u.T.conj().dot(c).dot(precoding_matrix))))"
   ]
  },
  {
   "cell_type": "code",
   "execution_count": 71,
   "metadata": {},
   "outputs": [],
   "source": [
    "bool_vector = np.array([1,1,1,0]).astype(bool)"
   ]
  },
  {
   "cell_type": "code",
   "execution_count": 73,
   "metadata": {},
   "outputs": [],
   "source": [
    "test = np.random.rand(2,4,3)"
   ]
  },
  {
   "cell_type": "code",
   "execution_count": 76,
   "metadata": {},
   "outputs": [
    {
     "data": {
      "text/plain": [
       "array([[[0.14094843, 0.91068471, 0.11675871],\n",
       "        [0.59380302, 0.40678842, 0.33741694],\n",
       "        [0.45358647, 0.81658461, 0.35867564]],\n",
       "\n",
       "       [[0.72922512, 0.07718045, 0.40032483],\n",
       "        [0.5296591 , 0.7550859 , 0.24628615],\n",
       "        [0.63837001, 0.20247747, 0.82282753]]])"
      ]
     },
     "execution_count": 76,
     "metadata": {},
     "output_type": "execute_result"
    }
   ],
   "source": [
    "test[:,bool_vector]"
   ]
  },
  {
   "cell_type": "code",
   "execution_count": 77,
   "metadata": {},
   "outputs": [
    {
     "name": "stdout",
     "output_type": "stream",
     "text": [
      "[[[0.14094843 0.91068471 0.11675871]\n",
      "  [0.59380302 0.40678842 0.33741694]\n",
      "  [0.45358647 0.81658461 0.35867564]\n",
      "  [0.9413958  0.75994116 0.94836748]]\n",
      "\n",
      " [[0.72922512 0.07718045 0.40032483]\n",
      "  [0.5296591  0.7550859  0.24628615]\n",
      "  [0.63837001 0.20247747 0.82282753]\n",
      "  [0.68938311 0.94889345 0.35288315]]]\n"
     ]
    }
   ],
   "source": [
    "print(test)"
   ]
  },
  {
   "cell_type": "code",
   "execution_count": 78,
   "metadata": {},
   "outputs": [
    {
     "name": "stdout",
     "output_type": "stream",
     "text": [
      "[1 2 3]\n"
     ]
    }
   ],
   "source": [
    "a = 0\n",
    "b = np.array([1,2,3])\n",
    "a += b\n",
    "print(a)"
   ]
  },
  {
   "cell_type": "code",
   "execution_count": 79,
   "metadata": {},
   "outputs": [
    {
     "name": "stdout",
     "output_type": "stream",
     "text": [
      "(4, 20)\n"
     ]
    }
   ],
   "source": [
    "print(c.shape)"
   ]
  },
  {
   "cell_type": "code",
   "execution_count": 88,
   "metadata": {},
   "outputs": [],
   "source": [
    "a = np.random.rand(4,5) + 1j*np.random.rand(4,5)"
   ]
  },
  {
   "cell_type": "code",
   "execution_count": 89,
   "metadata": {},
   "outputs": [],
   "source": [
    "b = a.copy()"
   ]
  },
  {
   "cell_type": "code",
   "execution_count": 90,
   "metadata": {},
   "outputs": [],
   "source": [
    "b[2] = a[1]\n",
    "b[1] = a[2]"
   ]
  },
  {
   "cell_type": "code",
   "execution_count": 100,
   "metadata": {},
   "outputs": [
    {
     "name": "stdout",
     "output_type": "stream",
     "text": [
      "[3.59197401 0.82543457 0.59876759 0.26075087]\n"
     ]
    }
   ],
   "source": [
    "s_a,v_a,d_a = np.linalg.svd(a)\n",
    "print(v_a)"
   ]
  },
  {
   "cell_type": "code",
   "execution_count": 101,
   "metadata": {},
   "outputs": [
    {
     "name": "stdout",
     "output_type": "stream",
     "text": [
      "[3.59197401 0.82543457 0.59876759 0.26075087]\n"
     ]
    }
   ],
   "source": [
    "s,v,d = np.linalg.svd(b)\n",
    "print(v)"
   ]
  },
  {
   "cell_type": "code",
   "execution_count": 102,
   "metadata": {},
   "outputs": [
    {
     "name": "stdout",
     "output_type": "stream",
     "text": [
      "[[2.78940083e-16 7.44760246e-16 2.28878340e-16 2.78940083e-16\n",
      "  4.96506831e-16]\n",
      " [1.01298345e-15 4.71027738e-16 5.66104887e-16 4.33555951e-16\n",
      "  3.37661151e-16]\n",
      " [9.42055475e-16 3.85592780e-16 7.02166694e-16 5.55111512e-16\n",
      "  6.75322301e-16]\n",
      " [4.00296604e-16 1.02357505e-15 6.47365705e-16 7.02166694e-16\n",
      "  4.44955726e-16]]\n"
     ]
    }
   ],
   "source": [
    "print(abs(s.dot(np.diag(v)).dot(d[:4,:]) - b))"
   ]
  },
  {
   "cell_type": "code",
   "execution_count": 103,
   "metadata": {},
   "outputs": [
    {
     "name": "stdout",
     "output_type": "stream",
     "text": [
      "[[1.11022302e-16 0.00000000e+00 1.22238239e+00 5.55111512e-17]\n",
      " [1.99882539e-01 5.34543176e-01 2.81715646e-01 1.08882801e+00]\n",
      " [1.99882539e-01 5.34543176e-01 2.81715646e-01 1.08882801e+00]\n",
      " [1.14439170e-16 4.35550341e-16 1.17026732e+00 3.65067599e-16]]\n"
     ]
    }
   ],
   "source": [
    "print(abs(s_a-s))"
   ]
  },
  {
   "cell_type": "code",
   "execution_count": 104,
   "metadata": {},
   "outputs": [
    {
     "data": {
      "text/plain": [
       "[3, 3, 3, 3, 3]"
      ]
     },
     "execution_count": 104,
     "metadata": {},
     "output_type": "execute_result"
    }
   ],
   "source": [
    "[3] * 5"
   ]
  },
  {
   "cell_type": "code",
   "execution_count": 106,
   "metadata": {},
   "outputs": [
    {
     "data": {
      "text/plain": [
       "array([4, 8, 1, 6, 5])"
      ]
     },
     "execution_count": 106,
     "metadata": {},
     "output_type": "execute_result"
    }
   ],
   "source": [
    "np.random.choice(10,5,replace=False)"
   ]
  },
  {
   "cell_type": "code",
   "execution_count": 107,
   "metadata": {},
   "outputs": [],
   "source": [
    "a = np.random.rand(4,6)"
   ]
  },
  {
   "cell_type": "code",
   "execution_count": 108,
   "metadata": {},
   "outputs": [
    {
     "name": "stdout",
     "output_type": "stream",
     "text": [
      "[[0. 0. 0. 0. 0. 0.]\n",
      " [0. 0. 0. 0. 0. 0.]\n",
      " [0. 0. 0. 0. 0. 0.]\n",
      " [0. 0. 0. 0. 0. 0.]]\n"
     ]
    }
   ],
   "source": [
    "import copy\n",
    "b = copy.deepcopy(a)\n",
    "print(b-a)"
   ]
  },
  {
   "cell_type": "code",
   "execution_count": 110,
   "metadata": {},
   "outputs": [],
   "source": [
    "b[2] = a[0]"
   ]
  },
  {
   "cell_type": "code",
   "execution_count": 112,
   "metadata": {},
   "outputs": [],
   "source": [
    "b[0] = a[2]"
   ]
  },
  {
   "cell_type": "code",
   "execution_count": 113,
   "metadata": {},
   "outputs": [
    {
     "data": {
      "text/plain": [
       "array([[ 0.        ,  0.        ,  0.        ,  0.        ,  0.        ,\n",
       "         0.        ],\n",
       "       [-0.52900883, -0.64065   ,  0.16634151,  0.08514202, -0.52702705,\n",
       "         0.25041545],\n",
       "       [ 0.52900883,  0.64065   , -0.16634151, -0.08514202,  0.52702705,\n",
       "        -0.25041545],\n",
       "       [ 0.        ,  0.        ,  0.        ,  0.        ,  0.        ,\n",
       "         0.        ]])"
      ]
     },
     "execution_count": 113,
     "metadata": {},
     "output_type": "execute_result"
    }
   ],
   "source": [
    "b -a "
   ]
  },
  {
   "cell_type": "code",
   "execution_count": 114,
   "metadata": {},
   "outputs": [
    {
     "name": "stdout",
     "output_type": "stream",
     "text": [
      "[1.85850961 0.76109717 0.47168092 0.12165896] [1.85850961 0.76109717 0.47168092 0.12165896]\n"
     ]
    }
   ],
   "source": [
    "s_a,v_a,d_a = np.linalg.svd(a)\n",
    "s_b,v_b,d_b = np.linalg.svd(b)\n",
    "print(v_a,v_b)"
   ]
  },
  {
   "cell_type": "code",
   "execution_count": 116,
   "metadata": {},
   "outputs": [
    {
     "name": "stdout",
     "output_type": "stream",
     "text": [
      "[[ 1.00000000e+00 -6.39966819e-18 -6.99459593e-18  1.01010513e-16]\n",
      " [-6.39966819e-18  1.00000000e+00  1.48486972e-16 -7.18009806e-17]\n",
      " [-6.99459593e-18  1.48486972e-16  1.00000000e+00  2.18559214e-16]\n",
      " [ 1.01010513e-16 -7.18009806e-17  2.18559214e-16  1.00000000e+00]]\n"
     ]
    }
   ],
   "source": [
    "print(s_a.T.dot(s_a))"
   ]
  },
  {
   "cell_type": "code",
   "execution_count": 117,
   "metadata": {},
   "outputs": [],
   "source": [
    "test = np.random.rand(4,4)"
   ]
  },
  {
   "cell_type": "code",
   "execution_count": 118,
   "metadata": {},
   "outputs": [],
   "source": [
    "e,v = np.linalg.eig(test)"
   ]
  },
  {
   "cell_type": "code",
   "execution_count": 119,
   "metadata": {},
   "outputs": [
    {
     "data": {
      "text/plain": [
       "array([ 1.75986932,  0.32514123, -0.42094944, -0.6430119 ])"
      ]
     },
     "execution_count": 119,
     "metadata": {},
     "output_type": "execute_result"
    }
   ],
   "source": [
    "e"
   ]
  },
  {
   "cell_type": "code",
   "execution_count": 120,
   "metadata": {},
   "outputs": [
    {
     "data": {
      "text/plain": [
       "array([[-0.54628431, -0.48453267, -0.57736344, -0.31504974],\n",
       "       [-0.22130548,  0.56014719, -0.29575995, -0.36092723],\n",
       "       [-0.64486267, -0.66096566,  0.54725172, -0.26036367],\n",
       "       [-0.48656909, -0.12077917,  0.52886016,  0.83826366]])"
      ]
     },
     "execution_count": 120,
     "metadata": {},
     "output_type": "execute_result"
    }
   ],
   "source": [
    "v"
   ]
  },
  {
   "cell_type": "code",
   "execution_count": 123,
   "metadata": {},
   "outputs": [
    {
     "data": {
      "text/plain": [
       "array([[ 0.23381675, -0.69623481, -1.07060356,  0.63381412],\n",
       "       [ 0.54272962, -0.53936506, -0.6984661 ,  0.89785132],\n",
       "       [-0.35074413, -0.74528222, -0.75217096,  0.53385007],\n",
       "       [ 0.09339214, -1.01388705, -1.17880708,  1.29533855]])"
      ]
     },
     "execution_count": 123,
     "metadata": {},
     "output_type": "execute_result"
    }
   ],
   "source": [
    "v.dot(np.diag(v)).dot(np.linalg.pinv(v)) - test"
   ]
  },
  {
   "cell_type": "code",
   "execution_count": 125,
   "metadata": {},
   "outputs": [
    {
     "ename": "ValueError",
     "evalue": "could not broadcast input array from shape (8) into shape (1,4)",
     "output_type": "error",
     "traceback": [
      "\u001b[0;31m---------------------------------------------------------------------------\u001b[0m",
      "\u001b[0;31mValueError\u001b[0m                                Traceback (most recent call last)",
      "\u001b[0;32m<ipython-input-125-9fd0bee1a0b5>\u001b[0m in \u001b[0;36m<module>\u001b[0;34m\u001b[0m\n\u001b[0;32m----> 1\u001b[0;31m \u001b[0mtest\u001b[0m\u001b[0;34m[\u001b[0m\u001b[0;36m2\u001b[0m\u001b[0;34m:\u001b[0m\u001b[0;36m3\u001b[0m\u001b[0;34m,\u001b[0m\u001b[0;34m:\u001b[0m\u001b[0;34m]\u001b[0m \u001b[0;34m=\u001b[0m \u001b[0mnp\u001b[0m\u001b[0;34m.\u001b[0m\u001b[0mconcatenate\u001b[0m\u001b[0;34m(\u001b[0m\u001b[0;34m(\u001b[0m\u001b[0mtest\u001b[0m\u001b[0;34m[\u001b[0m\u001b[0;36m3\u001b[0m\u001b[0;34m,\u001b[0m\u001b[0;34m:\u001b[0m\u001b[0;34m]\u001b[0m\u001b[0;34m,\u001b[0m\u001b[0mtest\u001b[0m\u001b[0;34m[\u001b[0m\u001b[0;36m2\u001b[0m\u001b[0;34m,\u001b[0m\u001b[0;34m:\u001b[0m\u001b[0;34m]\u001b[0m\u001b[0;34m)\u001b[0m\u001b[0;34m,\u001b[0m\u001b[0;36m0\u001b[0m\u001b[0;34m)\u001b[0m\u001b[0;34m\u001b[0m\u001b[0;34m\u001b[0m\u001b[0m\n\u001b[0m",
      "\u001b[0;31mValueError\u001b[0m: could not broadcast input array from shape (8) into shape (1,4)"
     ]
    }
   ],
   "source": [
    "test[2:3,:] = np.concatenate((test[3,:],test[2,:]),0)"
   ]
  },
  {
   "cell_type": "code",
   "execution_count": 126,
   "metadata": {},
   "outputs": [],
   "source": [
    "import torch\n",
    "data = torch.zeros(4).bool()"
   ]
  },
  {
   "cell_type": "code",
   "execution_count": 127,
   "metadata": {},
   "outputs": [
    {
     "data": {
      "text/plain": [
       "tensor([False, False, False, False])"
      ]
     },
     "execution_count": 127,
     "metadata": {},
     "output_type": "execute_result"
    }
   ],
   "source": [
    "data"
   ]
  },
  {
   "cell_type": "code",
   "execution_count": 128,
   "metadata": {},
   "outputs": [],
   "source": [
    "test = torch.LongTensor([3])"
   ]
  },
  {
   "cell_type": "code",
   "execution_count": 130,
   "metadata": {},
   "outputs": [
    {
     "ename": "SyntaxError",
     "evalue": "can't assign to function call (<ipython-input-130-18c5e4c00f66>, line 1)",
     "output_type": "error",
     "traceback": [
      "\u001b[0;36m  File \u001b[0;32m\"<ipython-input-130-18c5e4c00f66>\"\u001b[0;36m, line \u001b[0;32m1\u001b[0m\n\u001b[0;31m    data.gather(0,test) = True\u001b[0m\n\u001b[0m                              ^\u001b[0m\n\u001b[0;31mSyntaxError\u001b[0m\u001b[0;31m:\u001b[0m can't assign to function call\n"
     ]
    }
   ],
   "source": [
    "data.gather(0,test) = True"
   ]
  },
  {
   "cell_type": "code",
   "execution_count": 146,
   "metadata": {},
   "outputs": [],
   "source": [
    "a = torch.rand(3,4,5)\n",
    "b = torch.LongTensor([3,3,3])"
   ]
  },
  {
   "cell_type": "code",
   "execution_count": 147,
   "metadata": {},
   "outputs": [
    {
     "data": {
      "text/plain": [
       "tensor([[[0.2903, 0.9129, 0.7637, 0.4774, 0.3818],\n",
       "         [0.7119, 0.6041, 0.7766, 0.0683, 0.2362],\n",
       "         [0.2942, 0.7538, 0.8462, 0.1851, 0.0577],\n",
       "         [0.7808, 0.3871, 0.9842, 0.1514, 0.9462]],\n",
       "\n",
       "        [[0.3808, 0.3633, 0.7281, 0.6073, 0.2230],\n",
       "         [0.0796, 0.2201, 0.3722, 0.8576, 0.0467],\n",
       "         [0.0392, 0.5365, 0.3506, 0.7276, 0.8400],\n",
       "         [0.9214, 0.6019, 0.9341, 0.1050, 0.1135]],\n",
       "\n",
       "        [[0.1818, 0.8303, 0.7934, 0.4881, 0.3027],\n",
       "         [0.4547, 0.6895, 0.9259, 0.1367, 0.1727],\n",
       "         [0.2833, 0.9865, 0.5729, 0.1440, 0.5760],\n",
       "         [0.6556, 0.7748, 0.2134, 0.1491, 0.8846]]])"
      ]
     },
     "execution_count": 147,
     "metadata": {},
     "output_type": "execute_result"
    }
   ],
   "source": [
    "a"
   ]
  },
  {
   "cell_type": "code",
   "execution_count": 163,
   "metadata": {},
   "outputs": [
    {
     "data": {
      "text/plain": [
       "tensor([[[0.7808, 0.3871, 0.9842, 0.1514, 0.9462],\n",
       "         [0.7808, 0.3871, 0.9842, 0.1514, 0.9462],\n",
       "         [0.7808, 0.3871, 0.9842, 0.1514, 0.9462]],\n",
       "\n",
       "        [[0.9214, 0.6019, 0.9341, 0.1050, 0.1135],\n",
       "         [0.9214, 0.6019, 0.9341, 0.1050, 0.1135],\n",
       "         [0.9214, 0.6019, 0.9341, 0.1050, 0.1135]],\n",
       "\n",
       "        [[0.6556, 0.7748, 0.2134, 0.1491, 0.8846],\n",
       "         [0.6556, 0.7748, 0.2134, 0.1491, 0.8846],\n",
       "         [0.6556, 0.7748, 0.2134, 0.1491, 0.8846]]])"
      ]
     },
     "execution_count": 163,
     "metadata": {},
     "output_type": "execute_result"
    }
   ],
   "source": [
    "a.index_select(1,b)"
   ]
  },
  {
   "cell_type": "code",
   "execution_count": 164,
   "metadata": {},
   "outputs": [],
   "source": [
    "mask = torch.zeros(3,4).bool()"
   ]
  },
  {
   "cell_type": "code",
   "execution_count": 165,
   "metadata": {},
   "outputs": [
    {
     "data": {
      "text/plain": [
       "tensor([[False, False, False, False],\n",
       "        [False, False, False, False],\n",
       "        [False, False, False, False]])"
      ]
     },
     "execution_count": 165,
     "metadata": {},
     "output_type": "execute_result"
    }
   ],
   "source": [
    "mask"
   ]
  },
  {
   "cell_type": "code",
   "execution_count": 166,
   "metadata": {},
   "outputs": [],
   "source": [
    "mask[:,3] = True"
   ]
  },
  {
   "cell_type": "code",
   "execution_count": 167,
   "metadata": {},
   "outputs": [
    {
     "data": {
      "text/plain": [
       "tensor([[False, False, False,  True],\n",
       "        [False, False, False,  True],\n",
       "        [False, False, False,  True]])"
      ]
     },
     "execution_count": 167,
     "metadata": {},
     "output_type": "execute_result"
    }
   ],
   "source": [
    "mask"
   ]
  },
  {
   "cell_type": "code",
   "execution_count": 168,
   "metadata": {},
   "outputs": [
    {
     "data": {
      "text/plain": [
       "tensor([[0.7808, 0.3871, 0.9842, 0.1514, 0.9462],\n",
       "        [0.9214, 0.6019, 0.9341, 0.1050, 0.1135],\n",
       "        [0.6556, 0.7748, 0.2134, 0.1491, 0.8846]])"
      ]
     },
     "execution_count": 168,
     "metadata": {},
     "output_type": "execute_result"
    }
   ],
   "source": [
    "a[mask]"
   ]
  },
  {
   "cell_type": "code",
   "execution_count": 169,
   "metadata": {},
   "outputs": [
    {
     "data": {
      "text/plain": [
       "tensor([[[0.2903, 0.9129, 0.7637, 0.4774, 0.3818],\n",
       "         [0.7119, 0.6041, 0.7766, 0.0683, 0.2362],\n",
       "         [0.2942, 0.7538, 0.8462, 0.1851, 0.0577],\n",
       "         [0.7808, 0.3871, 0.9842, 0.1514, 0.9462]],\n",
       "\n",
       "        [[0.3808, 0.3633, 0.7281, 0.6073, 0.2230],\n",
       "         [0.0796, 0.2201, 0.3722, 0.8576, 0.0467],\n",
       "         [0.0392, 0.5365, 0.3506, 0.7276, 0.8400],\n",
       "         [0.9214, 0.6019, 0.9341, 0.1050, 0.1135]],\n",
       "\n",
       "        [[0.1818, 0.8303, 0.7934, 0.4881, 0.3027],\n",
       "         [0.4547, 0.6895, 0.9259, 0.1367, 0.1727],\n",
       "         [0.2833, 0.9865, 0.5729, 0.1440, 0.5760],\n",
       "         [0.6556, 0.7748, 0.2134, 0.1491, 0.8846]]])"
      ]
     },
     "execution_count": 169,
     "metadata": {},
     "output_type": "execute_result"
    }
   ],
   "source": [
    "a"
   ]
  },
  {
   "cell_type": "code",
   "execution_count": 171,
   "metadata": {},
   "outputs": [],
   "source": [
    "mask = torch.zeros(3,4).bool()"
   ]
  },
  {
   "cell_type": "code",
   "execution_count": 173,
   "metadata": {},
   "outputs": [
    {
     "data": {
      "text/plain": [
       "tensor([[False, False, False,  True],\n",
       "        [False, False, False,  True],\n",
       "        [False, False, False,  True]])"
      ]
     },
     "execution_count": 173,
     "metadata": {},
     "output_type": "execute_result"
    }
   ],
   "source": [
    "mask.scatter_(1,b.unsqueeze(-1),True) "
   ]
  },
  {
   "cell_type": "code",
   "execution_count": 175,
   "metadata": {},
   "outputs": [],
   "source": [
    "a = np.random.rand(4,5) * 1j*np.random.rand(4,5)"
   ]
  },
  {
   "cell_type": "code",
   "execution_count": 176,
   "metadata": {},
   "outputs": [
    {
     "name": "stdout",
     "output_type": "stream",
     "text": [
      "[[0.-0.24472415j 0.+0.34052169j 0.-0.02642131j 0.-0.29473077j\n",
      "  0.-0.08617104j]\n",
      " [0.+0.24472415j 0.-0.34052169j 0.+0.02642131j 0.+0.29473077j\n",
      "  0.+0.08617104j]\n",
      " [0.+0.j         0.+0.j         0.+0.j         0.+0.j\n",
      "  0.+0.j        ]\n",
      " [0.+0.j         0.+0.j         0.+0.j         0.+0.j\n",
      "  0.+0.j        ]]\n"
     ]
    }
   ],
   "source": [
    "b = copy.deepcopy(a)\n",
    "b[1,:] = a[0,:]\n",
    "b[0,:] = a[1,:]\n",
    "print(a-b)"
   ]
  },
  {
   "cell_type": "code",
   "execution_count": 177,
   "metadata": {},
   "outputs": [],
   "source": [
    "s_a, v_a, d_a = np.linalg.svd(a)\n",
    "s_b, v_b, d_b = np.linalg.svd(b)"
   ]
  },
  {
   "cell_type": "code",
   "execution_count": 178,
   "metadata": {},
   "outputs": [
    {
     "name": "stdout",
     "output_type": "stream",
     "text": [
      "[1.08829188 0.42578372 0.36775216 0.25198734]\n",
      "[1.08829188 0.42578372 0.36775216 0.25198734]\n"
     ]
    }
   ],
   "source": [
    "print(v_a)\n",
    "print(v_b)"
   ]
  },
  {
   "cell_type": "code",
   "execution_count": 180,
   "metadata": {},
   "outputs": [
    {
     "ename": "ValueError",
     "evalue": "shapes (4,4) and (5,5) not aligned: 4 (dim 1) != 5 (dim 0)",
     "output_type": "error",
     "traceback": [
      "\u001b[0;31m---------------------------------------------------------------------------\u001b[0m",
      "\u001b[0;31mValueError\u001b[0m                                Traceback (most recent call last)",
      "\u001b[0;32m<ipython-input-180-f2dbb138c502>\u001b[0m in \u001b[0;36m<module>\u001b[0;34m\u001b[0m\n\u001b[0;32m----> 1\u001b[0;31m \u001b[0ms_a\u001b[0m\u001b[0;34m.\u001b[0m\u001b[0mdot\u001b[0m\u001b[0;34m(\u001b[0m\u001b[0mnp\u001b[0m\u001b[0;34m.\u001b[0m\u001b[0mdiag\u001b[0m\u001b[0;34m(\u001b[0m\u001b[0mv_a\u001b[0m\u001b[0;34m)\u001b[0m\u001b[0;34m)\u001b[0m\u001b[0;34m.\u001b[0m\u001b[0mdot\u001b[0m\u001b[0;34m(\u001b[0m\u001b[0md_a\u001b[0m\u001b[0;34m)\u001b[0m \u001b[0;34m-\u001b[0m \u001b[0ma\u001b[0m\u001b[0;34m\u001b[0m\u001b[0;34m\u001b[0m\u001b[0m\n\u001b[0m",
      "\u001b[0;31mValueError\u001b[0m: shapes (4,4) and (5,5) not aligned: 4 (dim 1) != 5 (dim 0)"
     ]
    }
   ],
   "source": [
    "s_a.dot(np.concatenate(np.diag(v_a))).dot(d_a) - a"
   ]
  },
  {
   "cell_type": "code",
   "execution_count": 181,
   "metadata": {},
   "outputs": [],
   "source": [
    "psudo_inverse = np.linalg.pinv(a)"
   ]
  },
  {
   "cell_type": "code",
   "execution_count": 184,
   "metadata": {},
   "outputs": [
    {
     "data": {
      "text/plain": [
       "array([[1.00000000e+00, 2.35149623e-16, 1.90916883e-16, 1.75072930e-16],\n",
       "       [2.68324639e-16, 1.00000000e+00, 2.55556380e-16, 5.63542881e-17],\n",
       "       [2.00445782e-16, 9.19682430e-17, 1.00000000e+00, 3.52607155e-17],\n",
       "       [1.40048997e-16, 3.70375220e-16, 1.34172306e-16, 1.00000000e+00]])"
      ]
     },
     "execution_count": 184,
     "metadata": {},
     "output_type": "execute_result"
    }
   ],
   "source": [
    "abs(a.dot(psudo_inverse))"
   ]
  },
  {
   "cell_type": "code",
   "execution_count": 185,
   "metadata": {},
   "outputs": [
    {
     "data": {
      "text/plain": [
       "array([[ 4.77010661,  3.37338582,  1.31617774,  1.39897226],\n",
       "       [ 3.37338582,  7.45430464,  5.34708878,  2.22131648],\n",
       "       [ 1.31617774,  5.34708878, 10.73918287,  0.33653381],\n",
       "       [ 1.39897226,  2.22131648,  0.33653381,  6.53949424]])"
      ]
     },
     "execution_count": 185,
     "metadata": {},
     "output_type": "execute_result"
    }
   ],
   "source": [
    "abs(psudo_inverse.T.conj().dot(psudo_inverse))"
   ]
  },
  {
   "cell_type": "code",
   "execution_count": 216,
   "metadata": {},
   "outputs": [],
   "source": [
    "import torch"
   ]
  },
  {
   "cell_type": "code",
   "execution_count": 217,
   "metadata": {},
   "outputs": [],
   "source": [
    "a = np.random.rand(4,5,2)"
   ]
  },
  {
   "cell_type": "code",
   "execution_count": 218,
   "metadata": {},
   "outputs": [
    {
     "data": {
      "text/plain": [
       "array([[[0.68334381, 0.25927975],\n",
       "        [0.67089509, 0.46532021],\n",
       "        [0.7224964 , 0.1835343 ],\n",
       "        [0.09186864, 0.36384885],\n",
       "        [0.35757783, 0.83908991]],\n",
       "\n",
       "       [[0.42686771, 0.71230289],\n",
       "        [0.43772487, 0.2814188 ],\n",
       "        [0.09038899, 0.64907773],\n",
       "        [0.9854497 , 0.19266152],\n",
       "        [0.66095752, 0.74956598]],\n",
       "\n",
       "       [[0.11589692, 0.73028955],\n",
       "        [0.94407611, 0.63028437],\n",
       "        [0.82957497, 0.1518373 ],\n",
       "        [0.33845698, 0.99478827],\n",
       "        [0.39677936, 0.35350216]],\n",
       "\n",
       "       [[0.35826732, 0.29108946],\n",
       "        [0.55397504, 0.15165861],\n",
       "        [0.19592661, 0.61117461],\n",
       "        [0.23304797, 0.98724329],\n",
       "        [0.59273696, 0.05736565]]])"
      ]
     },
     "execution_count": 218,
     "metadata": {},
     "output_type": "execute_result"
    }
   ],
   "source": [
    "a[:4]"
   ]
  },
  {
   "cell_type": "code",
   "execution_count": 220,
   "metadata": {},
   "outputs": [
    {
     "data": {
      "text/plain": [
       "array([[False, False, False, False, False],\n",
       "       [False, False, False, False, False],\n",
       "       [False, False, False, False, False],\n",
       "       [False, False, False, False, False]])"
      ]
     },
     "execution_count": 220,
     "metadata": {},
     "output_type": "execute_result"
    }
   ],
   "source": [
    "np.zeros((4,5),dtype=bool)"
   ]
  },
  {
   "cell_type": "code",
   "execution_count": null,
   "metadata": {},
   "outputs": [],
   "source": []
  }
 ],
 "metadata": {
  "kernelspec": {
   "display_name": "Python 3",
   "language": "python",
   "name": "python3"
  },
  "language_info": {
   "codemirror_mode": {
    "name": "ipython",
    "version": 3
   },
   "file_extension": ".py",
   "mimetype": "text/x-python",
   "name": "python",
   "nbconvert_exporter": "python",
   "pygments_lexer": "ipython3",
   "version": "3.6.10"
  }
 },
 "nbformat": 4,
 "nbformat_minor": 4
}
